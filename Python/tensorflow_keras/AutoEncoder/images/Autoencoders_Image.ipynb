{
  "cells": [
    {
      "cell_type": "markdown",
      "metadata": {
        "id": "B7QRJeG1hqBY"
      },
      "source": [
        "# AutoEncoders sur des Données Image"
      ]
    },
    {
      "cell_type": "markdown",
      "metadata": {
        "id": "SvFeIPjzhqBZ"
      },
      "source": [
        "## Les Données"
      ]
    },
    {
      "cell_type": "code",
      "execution_count": 1,
      "metadata": {
        "id": "OfMZ0Sk3hqBa"
      },
      "outputs": [],
      "source": [
        "import pandas as pd\n",
        "import numpy as np\n",
        "import matplotlib.pyplot as plt"
      ]
    },
    {
      "cell_type": "code",
      "execution_count": 2,
      "metadata": {
        "id": "VzQ57IC2hqBe"
      },
      "outputs": [
        {
          "name": "stdout",
          "output_type": "stream",
          "text": [
            "WARNING:tensorflow:From c:\\Users\\hajdaini\\AppData\\Local\\Programs\\Python\\Python311\\Lib\\site-packages\\keras\\src\\losses.py:2976: The name tf.losses.sparse_softmax_cross_entropy is deprecated. Please use tf.compat.v1.losses.sparse_softmax_cross_entropy instead.\n",
            "\n"
          ]
        }
      ],
      "source": [
        "from tensorflow.keras.datasets import mnist"
      ]
    },
    {
      "cell_type": "code",
      "execution_count": 3,
      "metadata": {
        "id": "UE9bTUEOhqBh"
      },
      "outputs": [],
      "source": [
        "(X_train, y_train), (X_test, y_test) = mnist.load_data()"
      ]
    },
    {
      "cell_type": "code",
      "execution_count": 4,
      "metadata": {
        "colab": {
          "base_uri": "https://localhost:8080/",
          "height": 282
        },
        "id": "7USzYhZdhqBj",
        "outputId": "49878c65-9c72-4330-ea78-d9f7252ae020"
      },
      "outputs": [
        {
          "data": {
            "text/plain": [
              "<matplotlib.image.AxesImage at 0x264b0c6fc90>"
            ]
          },
          "execution_count": 4,
          "metadata": {},
          "output_type": "execute_result"
        },
        {
          "data": {
            "image/png": "[encoded data removed]",
            "text/plain": [
              "<Figure size 640x480 with 1 Axes>"
            ]
          },
          "metadata": {},
          "output_type": "display_data"
        }
      ],
      "source": [
        "plt.imshow(X_train[0])"
      ]
    },
    {
      "cell_type": "code",
      "execution_count": 5,
      "metadata": {
        "id": "7N6zCb_9hqBn"
      },
      "outputs": [],
      "source": [
        "X_train = X_train/255\n",
        "X_test = X_test/255"
      ]
    },
    {
      "cell_type": "markdown",
      "metadata": {
        "id": "COsbpl6lhqBp"
      },
      "source": [
        "## Les Bases de l'AutoEncoder"
      ]
    },
    {
      "cell_type": "code",
      "execution_count": 6,
      "metadata": {
        "id": "CndbnCwzhqBq"
      },
      "outputs": [],
      "source": [
        "from tensorflow.keras.models import Sequential\n",
        "from tensorflow.keras.layers import Dense,Flatten,Reshape\n",
        "from tensorflow.keras.optimizers import SGD"
      ]
    },
    {
      "cell_type": "code",
      "execution_count": 16,
      "metadata": {
        "id": "HNyqUWIjhqBs"
      },
      "outputs": [],
      "source": [
        "encoder = Sequential()\n",
        "encoder.add(Flatten(input_shape=[28,28]))\n",
        "encoder.add(Dense(400,activation=\"relu\"))\n",
        "encoder.add(Dense(200,activation=\"relu\"))\n",
        "encoder.add(Dense(100,activation=\"relu\"))\n",
        "encoder.add(Dense(50,activation=\"relu\"))\n",
        "encoder.add(Dense(25,activation=\"relu\"))\n",
        "# on part de 784 et on arrive à 25 dimensions soit 3% de la taille initiale"
      ]
    },
    {
      "cell_type": "code",
      "execution_count": 17,
      "metadata": {
        "id": "95OBBtqthqBz"
      },
      "outputs": [],
      "source": [
        "decoder = Sequential()\n",
        "decoder.add(Dense(50,input_shape=[25],activation='relu'))\n",
        "decoder.add(Dense(100,activation='relu'))\n",
        "decoder.add(Dense(200,activation='relu'))\n",
        "decoder.add(Dense(400,activation='relu'))\n",
        "decoder.add(Dense(28 * 28, activation=\"sigmoid\"))\n",
        "decoder.add(Reshape([28, 28]))"
      ]
    },
    {
      "cell_type": "code",
      "execution_count": 18,
      "metadata": {
        "id": "5GEdEEYShqB3"
      },
      "outputs": [],
      "source": [
        "autoencoder = Sequential([encoder, decoder])\n",
        "autoencoder.compile(loss=\"binary_crossentropy\",optimizer=SGD(learning_rate=1.5),metrics=['accuracy'])"
      ]
    },
    {
      "cell_type": "code",
      "execution_count": 19,
      "metadata": {
        "colab": {
          "base_uri": "https://localhost:8080/",
          "height": 224
        },
        "id": "Glcy0AHKhqB7",
        "outputId": "bab25567-7e8b-4389-be31-76a1234301cc"
      },
      "outputs": [
        {
          "name": "stdout",
          "output_type": "stream",
          "text": [
            "Epoch 1/5\n",
            "1875/1875 [==============================] - 13s 6ms/step - loss: 0.2482 - accuracy: 0.0899 - val_loss: 0.2044 - val_accuracy: 0.1360\n",
            "Epoch 2/5\n",
            "1875/1875 [==============================] - 11s 6ms/step - loss: 0.1829 - accuracy: 0.1630 - val_loss: 0.1642 - val_accuracy: 0.1901\n",
            "Epoch 3/5\n",
            "1875/1875 [==============================] - 12s 7ms/step - loss: 0.1595 - accuracy: 0.1992 - val_loss: 0.1548 - val_accuracy: 0.2092\n",
            "Epoch 4/5\n",
            "1875/1875 [==============================] - 11s 6ms/step - loss: 0.1510 - accuracy: 0.2112 - val_loss: 0.1476 - val_accuracy: 0.2202\n",
            "Epoch 5/5\n",
            "1875/1875 [==============================] - 10s 5ms/step - loss: 0.1431 - accuracy: 0.2199 - val_loss: 0.1418 - val_accuracy: 0.2225\n"
          ]
        },
        {
          "data": {
            "text/plain": [
              "<keras.src.callbacks.History at 0x264aeaadfd0>"
            ]
          },
          "execution_count": 19,
          "metadata": {},
          "output_type": "execute_result"
        }
      ],
      "source": [
        "autoencoder.fit(X_train, X_train, epochs=5,validation_data=(X_test, X_test))"
      ]
    },
    {
      "cell_type": "code",
      "execution_count": 20,
      "metadata": {
        "id": "KzLcewhzhqB-"
      },
      "outputs": [
        {
          "name": "stdout",
          "output_type": "stream",
          "text": [
            "1/1 [==============================] - 0s 132ms/step\n"
          ]
        }
      ],
      "source": [
        "passed_images = autoencoder.predict(X_test[:10])"
      ]
    },
    {
      "cell_type": "code",
      "execution_count": 21,
      "metadata": {
        "colab": {
          "base_uri": "https://localhost:8080/",
          "height": 282
        },
        "id": "_NGWgnS3hqCA",
        "outputId": "749208cf-8381-4ec1-f21c-e210466b8fc2"
      },
      "outputs": [
        {
          "name": "stdout",
          "output_type": "stream",
          "text": [
            "Image originale\n"
          ]
        },
        {
          "data": {
            "image/png": "[encoded data removed]",
            "text/plain": [
              "<Figure size 640x480 with 1 Axes>"
            ]
          },
          "metadata": {},
          "output_type": "display_data"
        },
        {
          "name": "stdout",
          "output_type": "stream",
          "text": [
            "Tentative de reconstruction (après auto-encodeur)\n"
          ]
        },
        {
          "data": {
            "text/plain": [
              "<matplotlib.image.AxesImage at 0x264d10aee90>"
            ]
          },
          "execution_count": 21,
          "metadata": {},
          "output_type": "execute_result"
        },
        {
          "data": {
            "image/png": "[encoded data removed]",
            "text/plain": [
              "<Figure size 640x480 with 1 Axes>"
            ]
          },
          "metadata": {},
          "output_type": "display_data"
        }
      ],
      "source": [
        "print(\"Image originale\")\n",
        "plt.imshow(X_test[0])\n",
        "plt.show()\n",
        "print(\"Tentative de reconstruction (après auto-encodeur)\")\n",
        "plt.imshow(passed_images[0])"
      ]
    },
    {
      "cell_type": "markdown",
      "metadata": {
        "id": "QZuVsZkuhqCI"
      },
      "source": [
        "# AutoEncoders pour le Débruitage des Images"
      ]
    },
    {
      "cell_type": "code",
      "execution_count": 22,
      "metadata": {
        "id": "L6D6J3UUhqCI"
      },
      "outputs": [],
      "source": [
        "from tensorflow.keras.layers import GaussianNoise"
      ]
    },
    {
      "cell_type": "code",
      "execution_count": 23,
      "metadata": {
        "id": "N033xZbmhqCM"
      },
      "outputs": [],
      "source": [
        "sample = GaussianNoise(0.2)"
      ]
    },
    {
      "cell_type": "code",
      "execution_count": 24,
      "metadata": {
        "colab": {
          "base_uri": "https://localhost:8080/",
          "height": 139
        },
        "id": "9zOb2vy5hqCP",
        "outputId": "272759bf-6815-4dc8-8b4d-835231656ef1"
      },
      "outputs": [],
      "source": [
        "noisey = sample(X_test[0:2],training=True)"
      ]
    },
    {
      "cell_type": "code",
      "execution_count": 33,
      "metadata": {
        "colab": {
          "base_uri": "https://localhost:8080/",
          "height": 282
        },
        "id": "fp_TO6QghqCS",
        "outputId": "e6da45ff-b88c-4848-a43f-291e94cb9f21"
      },
      "outputs": [
        {
          "name": "stdout",
          "output_type": "stream",
          "text": [
            "Sans bruit\n"
          ]
        },
        {
          "data": {
            "image/png": "[encoded data removed]",
            "text/plain": [
              "<Figure size 640x480 with 1 Axes>"
            ]
          },
          "metadata": {},
          "output_type": "display_data"
        },
        {
          "name": "stdout",
          "output_type": "stream",
          "text": [
            "Avec bruit\n"
          ]
        },
        {
          "data": {
            "text/plain": [
              "<matplotlib.image.AxesImage at 0x264d48e6390>"
            ]
          },
          "execution_count": 33,
          "metadata": {},
          "output_type": "execute_result"
        },
        {
          "data": {
            "image/png": "[encoded data removed]",
            "text/plain": [
              "<Figure size 640x480 with 1 Axes>"
            ]
          },
          "metadata": {},
          "output_type": "display_data"
        }
      ],
      "source": [
        "print(\"Sans bruit\")\n",
        "plt.imshow(X_test[0])\n",
        "plt.show()\n",
        "print(\"Avec bruit\")\n",
        "plt.imshow(noisey[0])"
      ]
    },
    {
      "cell_type": "markdown",
      "metadata": {
        "id": "sFZ_DVPPhqCZ"
      },
      "source": [
        "### Créer un auto-encodeur de suppression de bruit et l'entraîner"
      ]
    },
    {
      "cell_type": "code",
      "execution_count": 27,
      "metadata": {
        "id": "ah9l3TZZhqCa"
      },
      "outputs": [],
      "source": [
        "import tensorflow as tf"
      ]
    },
    {
      "cell_type": "code",
      "execution_count": 28,
      "metadata": {
        "id": "nCDxZpmxhqCe"
      },
      "outputs": [],
      "source": [
        "# Créer exactement le même bruit que la formation (facultatif)\n",
        "tf.random.set_seed(101)\n",
        "np.random.seed(101)\n",
        "\n",
        "\n",
        "encoder = Sequential()\n",
        "encoder.add(Flatten(input_shape=[28,28]))\n",
        "# Ajouter du bruit aux images avant de passer par l'auto-encodeur\n",
        "encoder.add(GaussianNoise(0.2))\n",
        "encoder.add(Dense(400,activation=\"relu\"))\n",
        "encoder.add(Dense(200,activation=\"relu\"))\n",
        "encoder.add(Dense(100,activation=\"relu\"))\n",
        "encoder.add(Dense(50,activation=\"relu\"))\n",
        "encoder.add(Dense(25,activation=\"relu\"))"
      ]
    },
    {
      "cell_type": "code",
      "execution_count": 29,
      "metadata": {
        "id": "EsG4fmqQhqCh"
      },
      "outputs": [],
      "source": [
        "decoder = Sequential()\n",
        "decoder.add(Dense(50,input_shape=[25],activation='relu'))\n",
        "decoder.add(Dense(100,activation='relu'))\n",
        "decoder.add(Dense(200,activation='relu'))\n",
        "decoder.add(Dense(400,activation='relu'))\n",
        "decoder.add(Dense(28 * 28, activation=\"sigmoid\"))\n",
        "decoder.add(Reshape([28, 28]))"
      ]
    },
    {
      "cell_type": "code",
      "execution_count": 30,
      "metadata": {
        "id": "zfOLto6xhqCl"
      },
      "outputs": [],
      "source": [
        "noise_remover = Sequential([encoder, decoder])"
      ]
    },
    {
      "cell_type": "code",
      "execution_count": 31,
      "metadata": {
        "id": "YKwwTrGIhqCo"
      },
      "outputs": [
        {
          "name": "stdout",
          "output_type": "stream",
          "text": [
            "WARNING:tensorflow:From c:\\Users\\hajdaini\\AppData\\Local\\Programs\\Python\\Python311\\Lib\\site-packages\\keras\\src\\optimizers\\__init__.py:309: The name tf.train.Optimizer is deprecated. Please use tf.compat.v1.train.Optimizer instead.\n",
            "\n"
          ]
        },
        {
          "name": "stderr",
          "output_type": "stream",
          "text": [
            "WARNING:tensorflow:From c:\\Users\\hajdaini\\AppData\\Local\\Programs\\Python\\Python311\\Lib\\site-packages\\keras\\src\\optimizers\\__init__.py:309: The name tf.train.Optimizer is deprecated. Please use tf.compat.v1.train.Optimizer instead.\n",
            "\n"
          ]
        }
      ],
      "source": [
        "noise_remover.compile(loss=\"binary_crossentropy\", optimizer='adam',metrics=['accuracy'])"
      ]
    },
    {
      "cell_type": "code",
      "execution_count": 32,
      "metadata": {
        "colab": {
          "base_uri": "https://localhost:8080/",
          "height": 326
        },
        "id": "lhQ6nxmDhqCt",
        "outputId": "9dd0fb7e-74bc-439a-b406-24548fc9fad2"
      },
      "outputs": [
        {
          "name": "stdout",
          "output_type": "stream",
          "text": [
            "Epoch 1/8\n",
            "1875/1875 [==============================] - 18s 8ms/step - loss: 0.1758 - accuracy: 0.1733 - val_loss: 0.1397 - val_accuracy: 0.2228\n",
            "Epoch 2/8\n",
            "1875/1875 [==============================] - 19s 10ms/step - loss: 0.1344 - accuracy: 0.2276 - val_loss: 0.1252 - val_accuracy: 0.2332\n",
            "Epoch 3/8\n",
            "1875/1875 [==============================] - 19s 10ms/step - loss: 0.1238 - accuracy: 0.2415 - val_loss: 0.1173 - val_accuracy: 0.2457\n",
            "Epoch 4/8\n",
            "1875/1875 [==============================] - 19s 10ms/step - loss: 0.1189 - accuracy: 0.2491 - val_loss: 0.1137 - val_accuracy: 0.2518\n",
            "Epoch 5/8\n",
            "1875/1875 [==============================] - 17s 9ms/step - loss: 0.1150 - accuracy: 0.2540 - val_loss: 0.1097 - val_accuracy: 0.2612\n",
            "Epoch 6/8\n",
            "1875/1875 [==============================] - 18s 9ms/step - loss: 0.1118 - accuracy: 0.2598 - val_loss: 0.1085 - val_accuracy: 0.2681\n",
            "Epoch 7/8\n",
            "1875/1875 [==============================] - 17s 9ms/step - loss: 0.1098 - accuracy: 0.2651 - val_loss: 0.1069 - val_accuracy: 0.2612\n",
            "Epoch 8/8\n",
            "1875/1875 [==============================] - 17s 9ms/step - loss: 0.1081 - accuracy: 0.2687 - val_loss: 0.1044 - val_accuracy: 0.2718\n"
          ]
        },
        {
          "data": {
            "text/plain": [
              "<keras.src.callbacks.History at 0x264d133bd50>"
            ]
          },
          "execution_count": 32,
          "metadata": {},
          "output_type": "execute_result"
        }
      ],
      "source": [
        "noise_remover.fit(X_train, X_train, epochs=8,\n",
        "                           validation_data=(X_test, X_test))"
      ]
    },
    {
      "cell_type": "code",
      "execution_count": null,
      "metadata": {
        "id": "aw8KgCvzhqC2"
      },
      "outputs": [],
      "source": [
        "ten_noisey_images = sample(X_test[0:10],training=True)\n",
        "denoised = noise_remover(ten_noisey_images[0:10])"
      ]
    },
    {
      "cell_type": "code",
      "execution_count": 34,
      "metadata": {
        "colab": {
          "base_uri": "https://localhost:8080/",
          "height": 812
        },
        "id": "siWpDYDPhqC6",
        "outputId": "7cc0fdcb-c34e-4cc5-aa2f-bfc804a79ed3"
      },
      "outputs": [
        {
          "name": "stdout",
          "output_type": "stream",
          "text": [
            "L'originale\n"
          ]
        },
        {
          "data": {
            "image/png": "[encoded data removed]",
            "text/plain": [
              "<Figure size 640x480 with 1 Axes>"
            ]
          },
          "metadata": {},
          "output_type": "display_data"
        },
        {
          "name": "stdout",
          "output_type": "stream",
          "text": [
            "La version avec du bruit\n"
          ]
        },
        {
          "ename": "NameError",
          "evalue": "name 'ten_noisey_images' is not defined",
          "output_type": "error",
          "traceback": [
            "\u001b[1;31m---------------------------------------------------------------------------\u001b[0m",
            "\u001b[1;31mNameError\u001b[0m                                 Traceback (most recent call last)",
            "Cell \u001b[1;32mIn[34], line 6\u001b[0m\n\u001b[0;32m      4\u001b[0m plt\u001b[38;5;241m.\u001b[39mshow()\n\u001b[0;32m      5\u001b[0m \u001b[38;5;28mprint\u001b[39m(\u001b[38;5;124m\"\u001b[39m\u001b[38;5;124mLa version avec du bruit\u001b[39m\u001b[38;5;124m\"\u001b[39m)\n\u001b[1;32m----> 6\u001b[0m plt\u001b[38;5;241m.\u001b[39mimshow(\u001b[43mten_noisey_images\u001b[49m[n])\n\u001b[0;32m      7\u001b[0m plt\u001b[38;5;241m.\u001b[39mshow()\n\u001b[0;32m      8\u001b[0m \u001b[38;5;28mprint\u001b[39m(\u001b[38;5;124m\"\u001b[39m\u001b[38;5;124mAprès le Débruitage\u001b[39m\u001b[38;5;124m\"\u001b[39m)\n",
            "\u001b[1;31mNameError\u001b[0m: name 'ten_noisey_images' is not defined"
          ]
        }
      ],
      "source": [
        "n = 1\n",
        "print(\"L'originale\")\n",
        "plt.imshow(X_test[n])\n",
        "plt.show()\n",
        "print(\"La version avec du bruit\")\n",
        "plt.imshow(ten_noisey_images[n])\n",
        "plt.show()\n",
        "print(\"Après le Débruitage\")\n",
        "plt.imshow(denoised[n])\n",
        "plt.show()"
      ]
    }
  ],
  "metadata": {
    "colab": {
      "provenance": []
    },
    "kernelspec": {
      "display_name": "Python 3",
      "language": "python",
      "name": "python3"
    },
    "language_info": {
      "codemirror_mode": {
        "name": "ipython",
        "version": 3
      },
      "file_extension": ".py",
      "mimetype": "text/x-python",
      "name": "python",
      "nbconvert_exporter": "python",
      "pygments_lexer": "ipython3",
      "version": "3.11.7"
    }
  },
  "nbformat": 4,
  "nbformat_minor": 0
}
