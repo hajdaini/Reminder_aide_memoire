{
  "cells": [
    {
      "cell_type": "code",
      "execution_count": 4,
      "metadata": {
        "id": "NPw4w8rFdydW"
      },
      "outputs": [],
      "source": [
        "import pandas as pd\n",
        "import numpy as np\n",
        "import matplotlib.pyplot as plt"
      ]
    },
    {
      "cell_type": "code",
      "execution_count": 1,
      "metadata": {
        "id": "qKqydFsidyda"
      },
      "outputs": [
        {
          "name": "stdout",
          "output_type": "stream",
          "text": [
            "WARNING:tensorflow:From c:\\Users\\hajdaini\\AppData\\Local\\Programs\\Python\\Python311\\Lib\\site-packages\\keras\\src\\losses.py:2976: The name tf.losses.sparse_softmax_cross_entropy is deprecated. Please use tf.compat.v1.losses.sparse_softmax_cross_entropy instead.\n",
            "\n"
          ]
        }
      ],
      "source": [
        "from tensorflow.keras.datasets import mnist"
      ]
    },
    {
      "cell_type": "code",
      "execution_count": 2,
      "metadata": {
        "id": "pv4SYOV5dydc"
      },
      "outputs": [],
      "source": [
        "(X_train, y_train), (X_test, y_test) = mnist.load_data()"
      ]
    },
    {
      "cell_type": "code",
      "execution_count": 5,
      "metadata": {
        "id": "FHY9ZdtVdydf",
        "outputId": "d342ecd8-81bb-4fcf-ca0e-e960559158eb"
      },
      "outputs": [
        {
          "data": {
            "text/plain": [
              "<matplotlib.image.AxesImage at 0x24078999650>"
            ]
          },
          "execution_count": 5,
          "metadata": {},
          "output_type": "execute_result"
        },
        {
          "data": {
            "image/png": "[encoded data removed]",
            "text/plain": [
              "<Figure size 640x480 with 1 Axes>"
            ]
          },
          "metadata": {},
          "output_type": "display_data"
        }
      ],
      "source": [
        "plt.imshow(X_train[0])"
      ]
    },
    {
      "cell_type": "markdown",
      "metadata": {
        "id": "eRKL7PKedydl"
      },
      "source": [
        "## Filtrer les données pour un entraînement plus rapide sur un plus petit ensemble de données"
      ]
    },
    {
      "cell_type": "code",
      "execution_count": 7,
      "metadata": {
        "id": "YtUcHlVmdydl"
      },
      "outputs": [
        {
          "name": "stdout",
          "output_type": "stream",
          "text": [
            "(5923, 28, 28)\n"
          ]
        },
        {
          "data": {
            "image/png": "[encoded data removed]",
            "text/plain": [
              "<Figure size 640x480 with 1 Axes>"
            ]
          },
          "metadata": {},
          "output_type": "display_data"
        }
      ],
      "source": [
        "only_zeros = X_train[y_train==0]\n",
        "print(only_zeros.shape)\n",
        "plt.imshow(only_zeros[950]);"
      ]
    },
    {
      "cell_type": "code",
      "execution_count": 8,
      "metadata": {
        "id": "tKCG_tEcdyds"
      },
      "outputs": [],
      "source": [
        "import tensorflow as tf\n",
        "from tensorflow.keras.layers import Dense,Reshape,Flatten\n",
        "from tensorflow.keras.models import Sequential"
      ]
    },
    {
      "cell_type": "code",
      "execution_count": 9,
      "metadata": {
        "id": "b-ADchYydydv"
      },
      "outputs": [],
      "source": [
        "np.random.seed(42)\n",
        "tf.random.set_seed(42)\n",
        "\n",
        "codings_size = 100"
      ]
    },
    {
      "cell_type": "code",
      "execution_count": 10,
      "metadata": {
        "id": "aq6RyqY0dyd0"
      },
      "outputs": [
        {
          "name": "stdout",
          "output_type": "stream",
          "text": [
            "WARNING:tensorflow:From c:\\Users\\hajdaini\\AppData\\Local\\Programs\\Python\\Python311\\Lib\\site-packages\\keras\\src\\backend.py:873: The name tf.get_default_graph is deprecated. Please use tf.compat.v1.get_default_graph instead.\n",
            "\n",
            "WARNING:tensorflow:From c:\\Users\\hajdaini\\AppData\\Local\\Programs\\Python\\Python311\\Lib\\site-packages\\keras\\src\\optimizers\\__init__.py:309: The name tf.train.Optimizer is deprecated. Please use tf.compat.v1.train.Optimizer instead.\n",
            "\n"
          ]
        }
      ],
      "source": [
        "discriminator = Sequential()\n",
        "discriminator.add(Flatten(input_shape=[28,28]))\n",
        "discriminator.add(Dense(150,activation='relu'))\n",
        "discriminator.add(Dense(100,activation='relu'))\n",
        "discriminator.add(Dense(1,activation=\"sigmoid\"))\n",
        "discriminator.compile(loss=\"binary_crossentropy\", optimizer=\"adam\")"
      ]
    },
    {
      "cell_type": "code",
      "execution_count": 11,
      "metadata": {
        "id": "Cy3OKfsudydy"
      },
      "outputs": [],
      "source": [
        "generator = Sequential()\n",
        "generator.add(Dense(100, activation=\"relu\", input_shape=[codings_size]))\n",
        "generator.add(Dense(150,activation='relu'))\n",
        "generator.add(Dense(784, activation=\"sigmoid\")) # 28*28 = 784\n",
        "generator.add(Reshape([28,28]))"
      ]
    },
    {
      "cell_type": "code",
      "execution_count": 12,
      "metadata": {
        "id": "m7j3vZdidyd3"
      },
      "outputs": [],
      "source": [
        "GAN = Sequential([generator, discriminator])"
      ]
    },
    {
      "cell_type": "code",
      "execution_count": 13,
      "metadata": {
        "id": "QUTdILYbdyd5"
      },
      "outputs": [],
      "source": [
        "discriminator.trainable = False"
      ]
    },
    {
      "cell_type": "code",
      "execution_count": 14,
      "metadata": {
        "id": "jUwMmXhAdyd-"
      },
      "outputs": [],
      "source": [
        "GAN.compile(loss=\"binary_crossentropy\", optimizer=\"adam\")"
      ]
    },
    {
      "cell_type": "code",
      "execution_count": 15,
      "metadata": {
        "id": "5XRw0WfsdyeA",
        "outputId": "c6c9ec10-5e38-492b-eaf3-73fc00eb8c5b"
      },
      "outputs": [
        {
          "data": {
            "text/plain": [
              "[<keras.src.engine.sequential.Sequential at 0x2407bbfdcd0>,\n",
              " <keras.src.engine.sequential.Sequential at 0x240787de650>]"
            ]
          },
          "execution_count": 15,
          "metadata": {},
          "output_type": "execute_result"
        }
      ],
      "source": [
        "GAN.layers"
      ]
    },
    {
      "cell_type": "code",
      "execution_count": 16,
      "metadata": {
        "id": "hop0O1gzdyeD",
        "outputId": "ec66ded1-8de7-4547-8868-1bdbf5ed0c12"
      },
      "outputs": [
        {
          "name": "stdout",
          "output_type": "stream",
          "text": [
            "Model: \"sequential_2\"\n",
            "_________________________________________________________________\n",
            " Layer (type)                Output Shape              Param #   \n",
            "=================================================================\n",
            " sequential_1 (Sequential)   (None, 28, 28)            143634    \n",
            "                                                                 \n",
            " sequential (Sequential)     (None, 1)                 132951    \n",
            "                                                                 \n",
            "=================================================================\n",
            "Total params: 276585 (1.06 MB)\n",
            "Trainable params: 143634 (561.07 KB)\n",
            "Non-trainable params: 132951 (519.34 KB)\n",
            "_________________________________________________________________\n"
          ]
        }
      ],
      "source": [
        "GAN.summary()"
      ]
    },
    {
      "cell_type": "code",
      "execution_count": 17,
      "metadata": {
        "id": "DSD5MoEbdyeG",
        "outputId": "73cea52d-727a-45aa-d51b-29ae93df7f8e"
      },
      "outputs": [
        {
          "name": "stdout",
          "output_type": "stream",
          "text": [
            "Model: \"sequential_1\"\n",
            "_________________________________________________________________\n",
            " Layer (type)                Output Shape              Param #   \n",
            "=================================================================\n",
            " dense_3 (Dense)             (None, 100)               10100     \n",
            "                                                                 \n",
            " dense_4 (Dense)             (None, 150)               15150     \n",
            "                                                                 \n",
            " dense_5 (Dense)             (None, 784)               118384    \n",
            "                                                                 \n",
            " reshape (Reshape)           (None, 28, 28)            0         \n",
            "                                                                 \n",
            "=================================================================\n",
            "Total params: 143634 (561.07 KB)\n",
            "Trainable params: 143634 (561.07 KB)\n",
            "Non-trainable params: 0 (0.00 Byte)\n",
            "_________________________________________________________________\n"
          ]
        }
      ],
      "source": [
        "GAN.layers[0].summary()"
      ]
    },
    {
      "cell_type": "code",
      "execution_count": 18,
      "metadata": {
        "id": "Yfy15_godyeJ",
        "outputId": "c6672c0b-1e01-4832-ea7b-a38b0e14c74a"
      },
      "outputs": [
        {
          "name": "stdout",
          "output_type": "stream",
          "text": [
            "Model: \"sequential\"\n",
            "_________________________________________________________________\n",
            " Layer (type)                Output Shape              Param #   \n",
            "=================================================================\n",
            " flatten (Flatten)           (None, 784)               0         \n",
            "                                                                 \n",
            " dense (Dense)               (None, 150)               117750    \n",
            "                                                                 \n",
            " dense_1 (Dense)             (None, 100)               15100     \n",
            "                                                                 \n",
            " dense_2 (Dense)             (None, 1)                 101       \n",
            "                                                                 \n",
            "=================================================================\n",
            "Total params: 132951 (519.34 KB)\n",
            "Trainable params: 0 (0.00 Byte)\n",
            "Non-trainable params: 132951 (519.34 KB)\n",
            "_________________________________________________________________\n"
          ]
        }
      ],
      "source": [
        "GAN.layers[1].summary()"
      ]
    },
    {
      "cell_type": "markdown",
      "metadata": {
        "id": "LV70KdfsdyeL"
      },
      "source": [
        "### Mise en place des batches d'entraînement"
      ]
    },
    {
      "cell_type": "code",
      "execution_count": 20,
      "metadata": {
        "id": "Szw1EKg_dyeM"
      },
      "outputs": [],
      "source": [
        "import tensorflow as tf"
      ]
    },
    {
      "cell_type": "code",
      "execution_count": 21,
      "metadata": {
        "id": "ASykuHujdyeN"
      },
      "outputs": [],
      "source": [
        "batch_size = 32"
      ]
    },
    {
      "cell_type": "markdown",
      "metadata": {
        "id": "kln_YPGkdyeQ"
      },
      "source": [
        "https://stackoverflow.com/questions/46444018/meaning-of-buffer-size-in-dataset-map-dataset-prefetch-and-dataset-shuffle\n",
        "\n",
        "Le paramètre buffer_size dans Dataset.shuffle() peut affecter le caractère aléatoire de votre ensemble de données, et donc l'ordre dans lequel les éléments sont produits."
      ]
    },
    {
      "cell_type": "code",
      "execution_count": 22,
      "metadata": {
        "id": "MaUOAT0ndyeQ"
      },
      "outputs": [],
      "source": [
        "# my_data = X_train\n",
        "my_data = only_zeros"
      ]
    },
    {
      "cell_type": "code",
      "execution_count": 23,
      "metadata": {
        "id": "p37LsoIIdyeS"
      },
      "outputs": [],
      "source": [
        "dataset = tf.data.Dataset.from_tensor_slices(my_data).shuffle(buffer_size=1000)"
      ]
    },
    {
      "cell_type": "code",
      "execution_count": 24,
      "metadata": {
        "id": "A-ddKE69dyeW",
        "outputId": "8183e338-feac-451c-dee3-5592e22e009d"
      },
      "outputs": [
        {
          "data": {
            "text/plain": [
              "tensorflow.python.data.ops.shuffle_op._ShuffleDataset"
            ]
          },
          "execution_count": 24,
          "metadata": {},
          "output_type": "execute_result"
        }
      ],
      "source": [
        "type(dataset)"
      ]
    },
    {
      "cell_type": "code",
      "execution_count": 25,
      "metadata": {
        "id": "A8DiOuVBdyeY"
      },
      "outputs": [],
      "source": [
        "dataset = dataset.batch(batch_size, drop_remainder=True).prefetch(1)"
      ]
    },
    {
      "cell_type": "code",
      "execution_count": 26,
      "metadata": {
        "id": "oQydbxUAdyea"
      },
      "outputs": [],
      "source": [
        "epochs = 1"
      ]
    },
    {
      "cell_type": "markdown",
      "metadata": {
        "id": "_jfFg1S8dyec"
      },
      "source": [
        "**NOTE : Le générateur ne voit jamais d'images réelles. Il apprend en regardant les gradients qui remontent à travers le discriminateur. Plus le discriminateur s'améliore au cours de l'entraînement, plus il contient d'informations dans ses gradients, ce qui signifie que le générateur peut être amené à progresser dans l'apprentissage de la génération de fausses images, dans notre cas, de faux zéros.**\n",
        "\n",
        "## Boucle d'Entraînement"
      ]
    },
    {
      "cell_type": "code",
      "execution_count": 27,
      "metadata": {
        "id": "fX5eFV5Edyed",
        "outputId": "accf7692-25ab-45ba-c154-684407e13dd8"
      },
      "outputs": [
        {
          "name": "stdout",
          "output_type": "stream",
          "text": [
            "Currently on Epoch 1\n"
          ]
        },
        {
          "name": "stdout",
          "output_type": "stream",
          "text": [
            "WARNING:tensorflow:From c:\\Users\\hajdaini\\AppData\\Local\\Programs\\Python\\Python311\\Lib\\site-packages\\keras\\src\\utils\\tf_utils.py:492: The name tf.ragged.RaggedTensorValue is deprecated. Please use tf.compat.v1.ragged.RaggedTensorValue instead.\n",
            "\n",
            "\tCurrently on batch number 100 of 185\n",
            "TRAINING COMPLETE\n"
          ]
        }
      ],
      "source": [
        "# Saisir les composants séparés\n",
        "generator, discriminator = GAN.layers\n",
        "\n",
        "# Pour chaque epoch\n",
        "for epoch in range(epochs):\n",
        "    print(f\"Currently on Epoch {epoch+1}\")\n",
        "    i = 0\n",
        "    # Pour chaque batch dans le dataset\n",
        "    for X_batch in dataset:\n",
        "        i=i+1\n",
        "        if i%100 == 0:\n",
        "            print(f\"\\tCurrently on batch number {i} of {len(my_data)//batch_size}\")\n",
        "\n",
        "        #########################################\n",
        "        ## ENTRAINEMENT DU DISCRIMINATEUR ######\n",
        "        #######################################\n",
        "\n",
        "        # Créer du bruit\n",
        "        noise = tf.random.normal(shape=[batch_size, codings_size])\n",
        "\n",
        "        # Générer des nombres basés uniquement sur ce bruit d'entrée\n",
        "        gen_images = generator(noise)\n",
        "\n",
        "        # Concaténer les images générées avec les images réelles\n",
        "        # POUR utiliser tf.concat, les types de données doivent correspondre !\n",
        "        X_fake_vs_real = tf.concat([gen_images, tf.dtypes.cast(X_batch,tf.float32)], axis=0)\n",
        "\n",
        "        # Cibles fixées à zéro pour les fausses images et à 1 pour les images réelles\n",
        "        y1 = tf.constant([[0.]] * batch_size + [[1.]] * batch_size)\n",
        "\n",
        "        # Cela permet de se débarrasser d'un avertissement Keras\n",
        "        discriminator.trainable = True\n",
        "\n",
        "        # Entraîner le discriminateur sur ce batch\n",
        "        discriminator.train_on_batch(X_fake_vs_real, y1)\n",
        "\n",
        "\n",
        "        #####################################\n",
        "        ## ENTRAINEMENT DU GÉNÉRATEUR ######\n",
        "        ###################################\n",
        "\n",
        "        # Créer un peu de bruit\n",
        "        noise = tf.random.normal(shape=[batch_size, codings_size])\n",
        "\n",
        "        # Nous voulons que les discriminateurs croient que les fausses images sont réelles\n",
        "        y2 = tf.constant([[1.]] * batch_size)\n",
        "\n",
        "        # Éviter un avertissement\n",
        "        discriminator.trainable = False\n",
        "\n",
        "        GAN.train_on_batch(noise, y2)\n",
        "\n",
        "print(\"TRAINING COMPLETE\")"
      ]
    },
    {
      "cell_type": "code",
      "execution_count": 28,
      "metadata": {
        "id": "hqTMYOBQdyef"
      },
      "outputs": [],
      "source": [
        "# Il est fort probable que votre générateur n'apprenne à créer qu'un seul type de bruit zéro\n",
        "# Quel que soit le bruit qui y passe."
      ]
    },
    {
      "cell_type": "markdown",
      "metadata": {
        "id": "nlLBYmDTdyeg"
      },
      "source": [
        "https://www.quora.com/What-does-it-mean-if-all-produced-images-of-a-GAN-look-the-same"
      ]
    },
    {
      "cell_type": "code",
      "execution_count": 29,
      "metadata": {
        "id": "C5ke8i4Sdyeh"
      },
      "outputs": [],
      "source": [
        "noise = tf.random.normal(shape=[10, codings_size])"
      ]
    },
    {
      "cell_type": "code",
      "execution_count": 30,
      "metadata": {
        "id": "YjLyH7IYdyei",
        "outputId": "c45e1702-29fa-420b-8f3e-7d8a87533427"
      },
      "outputs": [
        {
          "data": {
            "text/plain": [
              "TensorShape([10, 100])"
            ]
          },
          "execution_count": 30,
          "metadata": {},
          "output_type": "execute_result"
        }
      ],
      "source": [
        "noise.shape"
      ]
    },
    {
      "cell_type": "code",
      "execution_count": 31,
      "metadata": {
        "id": "eYLYZSMddyem",
        "outputId": "8e2a8558-147b-43e6-da71-78f5b32ffeed"
      },
      "outputs": [
        {
          "data": {
            "text/plain": [
              "<matplotlib.image.AxesImage at 0x2407bf81610>"
            ]
          },
          "execution_count": 31,
          "metadata": {},
          "output_type": "execute_result"
        },
        {
          "data": {
            "image/png": "[encoded data removed]",
            "text/plain": [
              "<Figure size 640x480 with 1 Axes>"
            ]
          },
          "metadata": {},
          "output_type": "display_data"
        }
      ],
      "source": [
        "plt.imshow(noise)"
      ]
    },
    {
      "cell_type": "code",
      "execution_count": 32,
      "metadata": {
        "id": "HyPtJ12qdyeo"
      },
      "outputs": [],
      "source": [
        "image = generator(noise)"
      ]
    },
    {
      "cell_type": "code",
      "execution_count": 33,
      "metadata": {
        "id": "vdqKR8zIdyeq",
        "outputId": "86a4ac18-47fb-4f21-9845-70cc0c883de2"
      },
      "outputs": [
        {
          "data": {
            "text/plain": [
              "<matplotlib.image.AxesImage at 0x2407f466050>"
            ]
          },
          "execution_count": 33,
          "metadata": {},
          "output_type": "execute_result"
        },
        {
          "data": {
            "image/png": "[encoded data removed]",
            "text/plain": [
              "<Figure size 640x480 with 1 Axes>"
            ]
          },
          "metadata": {},
          "output_type": "display_data"
        }
      ],
      "source": [
        "plt.imshow(image[5])"
      ]
    },
    {
      "cell_type": "markdown",
      "metadata": {
        "id": "IB79LhhXdyes"
      },
      "source": [
        "**Visionnez notre vidéo de conclusion pour connaître les meilleures pratiques dans ce domaine ! Nous avons besoin de GPUs très puissants pour obtenir des résultats réalistes !**"
      ]
    }
  ],
  "metadata": {
    "colab": {
      "provenance": []
    },
    "kernelspec": {
      "display_name": "Python 3",
      "language": "python",
      "name": "python3"
    },
    "language_info": {
      "codemirror_mode": {
        "name": "ipython",
        "version": 3
      },
      "file_extension": ".py",
      "mimetype": "text/x-python",
      "name": "python",
      "nbconvert_exporter": "python",
      "pygments_lexer": "ipython3",
      "version": "3.11.7"
    }
  },
  "nbformat": 4,
  "nbformat_minor": 0
}
